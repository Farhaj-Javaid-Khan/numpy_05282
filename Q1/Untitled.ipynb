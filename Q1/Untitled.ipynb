{
 "cells": [
  {
   "cell_type": "code",
   "execution_count": 65,
   "metadata": {},
   "outputs": [],
   "source": [
    "import numpy as np\n",
    "from PIL import Image"
   ]
  },
  {
   "cell_type": "code",
   "execution_count": 66,
   "metadata": {},
   "outputs": [
    {
     "name": "stdout",
     "output_type": "stream",
     "text": [
      "JPEG\n",
      "(750, 750)\n",
      "RGB\n"
     ]
    }
   ],
   "source": [
    "\n",
    "# Open the image form working directory\n",
    "image = Image.open('nj.jpg')\n",
    "# summarize some details about the image\n",
    "print(image.format)\n",
    "print(image.size)\n",
    "print(image.mode)\n",
    "# show the image\n"
   ]
  },
  {
   "cell_type": "code",
   "execution_count": 47,
   "metadata": {},
   "outputs": [
    {
     "name": "stdout",
     "output_type": "stream",
     "text": [
      "(1440, 1440, 3)\n"
     ]
    }
   ],
   "source": [
    "data = np.asarray(image)\n",
    "# print(type(data))\n",
    "# summarize shape\n",
    "print(data.shape)\n",
    "\n",
    "# create Pillow image\n",
    "# image2 = Image.fromarray(data)\n",
    "# print(type(image2))\n",
    "\n",
    "# print(image2.mode)\n",
    "# print(image2.size)\n",
    "# print(data)\n"
   ]
  },
  {
   "cell_type": "code",
   "execution_count": 67,
   "metadata": {},
   "outputs": [
    {
     "name": "stdout",
     "output_type": "stream",
     "text": [
      "[[[248 244 241]\n",
      "  [248 244 241]\n",
      "  [248 244 241]\n",
      "  ...\n",
      "  [226 208 194]\n",
      "  [226 208 194]\n",
      "  [226 208 194]]\n",
      "\n",
      " [[248 244 241]\n",
      "  [248 244 241]\n",
      "  [248 244 241]\n",
      "  ...\n",
      "  [226 208 194]\n",
      "  [226 208 194]\n",
      "  [226 208 194]]\n",
      "\n",
      " [[248 244 241]\n",
      "  [248 244 241]\n",
      "  [248 244 241]\n",
      "  ...\n",
      "  [226 208 194]\n",
      "  [226 208 194]\n",
      "  [226 208 194]]\n",
      "\n",
      " ...\n",
      "\n",
      " [[185 170 167]\n",
      "  [185 170 167]\n",
      "  [185 170 167]\n",
      "  ...\n",
      "  [ 92  99 127]\n",
      "  [ 93  98 127]\n",
      "  [ 98 105 133]]\n",
      "\n",
      " [[184 169 166]\n",
      "  [184 169 166]\n",
      "  [184 169 166]\n",
      "  ...\n",
      "  [ 90  95 124]\n",
      "  [ 91  96 125]\n",
      "  [ 98 103 132]]\n",
      "\n",
      " [[184 169 166]\n",
      "  [184 169 166]\n",
      "  [184 169 166]\n",
      "  ...\n",
      "  [ 89  94 123]\n",
      "  [ 91  96 125]\n",
      "  [100 106 132]]]\n",
      "(500, 500, 3)\n"
     ]
    }
   ],
   "source": [
    "# x1 ,  y1 = 1,1\n",
    "# x2 , y2 = 2,2\n",
    "cropped = data[0:500, 0:500]\n",
    "print(cropped)\n",
    "print(cropped.shape)\n"
   ]
  },
  {
   "cell_type": "code",
   "execution_count": 76,
   "metadata": {},
   "outputs": [
    {
     "ename": "AttributeError",
     "evalue": "'numpy.ndarray' object has no attribute 'save'",
     "output_type": "error",
     "traceback": [
      "\u001b[1;31m---------------------------------------------------------------------------\u001b[0m",
      "\u001b[1;31mAttributeError\u001b[0m                            Traceback (most recent call last)",
      "\u001b[1;32m<ipython-input-76-f37eb400ad63>\u001b[0m in \u001b[0;36m<module>\u001b[1;34m\u001b[0m\n\u001b[1;32m----> 1\u001b[1;33m \u001b[0mcropped\u001b[0m\u001b[1;33m.\u001b[0m\u001b[0msave\u001b[0m\u001b[1;33m(\u001b[0m\u001b[1;34m'ffff2.jpg'\u001b[0m\u001b[1;33m)\u001b[0m\u001b[1;33m\u001b[0m\u001b[1;33m\u001b[0m\u001b[0m\n\u001b[0m",
      "\u001b[1;31mAttributeError\u001b[0m: 'numpy.ndarray' object has no attribute 'save'"
     ]
    }
   ],
   "source": [
    "\n",
    "cropped.save('ffff2.jpg')\n"
   ]
  },
  {
   "cell_type": "code",
   "execution_count": 73,
   "metadata": {},
   "outputs": [],
   "source": [
    "im.show()"
   ]
  },
  {
   "cell_type": "code",
   "execution_count": 72,
   "metadata": {},
   "outputs": [
    {
     "data": {
      "text/plain": [
       "'C:\\\\Users\\\\R02-PC10\\\\Untitled Folder'"
      ]
     },
     "execution_count": 72,
     "metadata": {},
     "output_type": "execute_result"
    }
   ],
   "source": [
    "pwd\n"
   ]
  },
  {
   "cell_type": "code",
   "execution_count": null,
   "metadata": {},
   "outputs": [],
   "source": []
  }
 ],
 "metadata": {
  "kernelspec": {
   "display_name": "Python 3",
   "language": "python",
   "name": "python3"
  },
  "language_info": {
   "codemirror_mode": {
    "name": "ipython",
    "version": 3
   },
   "file_extension": ".py",
   "mimetype": "text/x-python",
   "name": "python",
   "nbconvert_exporter": "python",
   "pygments_lexer": "ipython3",
   "version": "3.8.5"
  }
 },
 "nbformat": 4,
 "nbformat_minor": 4
}
